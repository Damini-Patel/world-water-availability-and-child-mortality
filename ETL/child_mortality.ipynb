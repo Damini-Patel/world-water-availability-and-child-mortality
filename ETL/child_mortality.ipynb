{
 "metadata": {
  "language_info": {
   "codemirror_mode": {
    "name": "ipython",
    "version": 3
   },
   "file_extension": ".py",
   "mimetype": "text/x-python",
   "name": "python",
   "nbconvert_exporter": "python",
   "pygments_lexer": "ipython3",
   "version": "3.8.3-final"
  },
  "orig_nbformat": 2,
  "kernelspec": {
   "name": "python383jvsc74a57bd01967d762c769939a2291d44347683792873ab5f7dbb8a8895d3a32369559e71d",
   "display_name": "Python 3.8.3 64-bit (conda)"
  }
 },
 "nbformat": 4,
 "nbformat_minor": 2,
 "cells": [
  {
   "source": [
    "# Extract Data"
   ],
   "cell_type": "markdown",
   "metadata": {}
  },
  {
   "cell_type": "code",
   "execution_count": 1,
   "metadata": {},
   "outputs": [],
   "source": [
    "# Dependencies\n",
    "import requests\n",
    "import pandas as pd"
   ]
  },
  {
   "cell_type": "code",
   "execution_count": 2,
   "metadata": {},
   "outputs": [],
   "source": [
    "# Save config information\n",
    "url = \"https://ghoapi.azureedge.net/api/MDG_0000000007\"\n"
   ]
  },
  {
   "cell_type": "code",
   "execution_count": 3,
   "metadata": {},
   "outputs": [],
   "source": [
    "response = requests.get(url).json()"
   ]
  },
  {
   "cell_type": "code",
   "execution_count": 4,
   "metadata": {
    "tags": [
     "outputPrepend"
    ]
   },
   "outputs": [
    {
     "output_type": "stream",
     "name": "stdout",
     "text": [
      "aSourceDim': None, 'Value': '47.5', 'NumericValue': 47.54554, 'Low': 46.06458, 'High': 49.15637, 'Comments': None, 'Date': '2020-09-22T15:17:48.92+02:00', 'TimeDimensionValue': '1996', 'TimeDimensionBegin': '1996-01-01T00:00:00+01:00', 'TimeDimensionEnd': '1996-12-31T00:00:00+01:00'}, {'Id': 24339457, 'IndicatorCode': 'MDG_0000000007', 'SpatialDimType': 'WORLDBANKINCOMEGROUP', 'SpatialDim': 'WB_UMI', 'TimeDimType': 'YEAR', 'TimeDim': 1997, 'Dim1Type': 'SEX', 'Dim1': 'MLE', 'Dim2Type': None, 'Dim2': None, 'Dim3Type': None, 'Dim3': None, 'DataSourceDimType': None, 'DataSourceDim': None, 'Value': '45.6', 'NumericValue': 45.56101, 'Low': 44.18328, 'High': 47.1046, 'Comments': None, 'Date': '2020-09-22T15:17:48.95+02:00', 'TimeDimensionValue': '1997', 'TimeDimensionBegin': '1997-01-01T00:00:00+01:00', 'TimeDimensionEnd': '1997-12-31T00:00:00+01:00'}, {'Id': 24339458, 'IndicatorCode': 'MDG_0000000007', 'SpatialDimType': 'WORLDBANKINCOMEGROUP', 'SpatialDim': 'WB_UMI', 'TimeDimType': 'YEAR', 'TimeDim': 1998, 'Dim1Type': 'SEX', 'Dim1': 'MLE', 'Dim2Type': None, 'Dim2': None, 'Dim3Type': None, 'Dim3': None, 'DataSourceDimType': None, 'DataSourceDim': None, 'Value': '43.6', 'NumericValue': 43.59604, 'Low': 42.32117, 'High': 45.05974, 'Comments': None, 'Date': '2020-09-22T15:17:48.967+02:00', 'TimeDimensionValue': '1998', 'TimeDimensionBegin': '1998-01-01T00:00:00+01:00', 'TimeDimensionEnd': '1998-12-31T00:00:00+01:00'}, {'Id': 24339459, 'IndicatorCode': 'MDG_0000000007', 'SpatialDimType': 'WORLDBANKINCOMEGROUP', 'SpatialDim': 'WB_UMI', 'TimeDimType': 'YEAR', 'TimeDim': 1999, 'Dim1Type': 'SEX', 'Dim1': 'MLE', 'Dim2Type': None, 'Dim2': None, 'Dim3Type': None, 'Dim3': None, 'DataSourceDimType': None, 'DataSourceDim': None, 'Value': '41.6', 'NumericValue': 41.64967, 'Low': 40.40707, 'High': 43.01288, 'Comments': None, 'Date': '2020-09-22T15:17:48.997+02:00', 'TimeDimensionValue': '1999', 'TimeDimensionBegin': '1999-01-01T00:00:00+01:00', 'TimeDimensionEnd': '1999-12-31T00:00:00+01:00'}, {'Id': 24339460, 'IndicatorCode': 'MDG_0000000007', 'SpatialDimType': 'WORLDBANKINCOMEGROUP', 'SpatialDim': 'WB_UMI', 'TimeDimType': 'YEAR', 'TimeDim': 2000, 'Dim1Type': 'SEX', 'Dim1': 'MLE', 'Dim2Type': None, 'Dim2': None, 'Dim3Type': None, 'Dim3': None, 'DataSourceDimType': None, 'DataSourceDim': None, 'Value': '39.5', 'NumericValue': 39.54438, 'Low': 38.38428, 'High': 40.84179, 'Comments': None, 'Date': '2020-09-22T15:17:49.03+02:00', 'TimeDimensionValue': '2000', 'TimeDimensionBegin': '2000-01-01T00:00:00+01:00', 'TimeDimensionEnd': '2000-12-31T00:00:00+01:00'}, {'Id': 24339461, 'IndicatorCode': 'MDG_0000000007', 'SpatialDimType': 'WORLDBANKINCOMEGROUP', 'SpatialDim': 'WB_UMI', 'TimeDimType': 'YEAR', 'TimeDim': 2001, 'Dim1Type': 'SEX', 'Dim1': 'MLE', 'Dim2Type': None, 'Dim2': None, 'Dim3Type': None, 'Dim3': None, 'DataSourceDimType': None, 'DataSourceDim': None, 'Value': '37.5', 'NumericValue': 37.48846, 'Low': 36.42349, 'High': 38.7061, 'Comments': None, 'Date': '2020-09-22T15:17:49.06+02:00', 'TimeDimensionValue': '2001', 'TimeDimensionBegin': '2001-01-01T00:00:00+01:00', 'TimeDimensionEnd': '2001-12-31T00:00:00+01:00'}, {'Id': 24339462, 'IndicatorCode': 'MDG_0000000007', 'SpatialDimType': 'WORLDBANKINCOMEGROUP', 'SpatialDim': 'WB_UMI', 'TimeDimType': 'YEAR', 'TimeDim': 2002, 'Dim1Type': 'SEX', 'Dim1': 'MLE', 'Dim2Type': None, 'Dim2': None, 'Dim3Type': None, 'Dim3': None, 'DataSourceDimType': None, 'DataSourceDim': None, 'Value': '35.4', 'NumericValue': 35.41626, 'Low': 34.43419, 'High': 36.52864, 'Comments': None, 'Date': '2020-09-22T15:17:49.077+02:00', 'TimeDimensionValue': '2002', 'TimeDimensionBegin': '2002-01-01T00:00:00+01:00', 'TimeDimensionEnd': '2002-12-31T00:00:00+01:00'}, {'Id': 24339463, 'IndicatorCode': 'MDG_0000000007', 'SpatialDimType': 'WORLDBANKINCOMEGROUP', 'SpatialDim': 'WB_UMI', 'TimeDimType': 'YEAR', 'TimeDim': 2003, 'Dim1Type': 'SEX', 'Dim1': 'MLE', 'Dim2Type': None, 'Dim2': None, 'Dim3Type': None, 'Dim3': None, 'DataSourceDimType': None, 'DataSourceDim': None, 'Value': '33.4', 'NumericValue': 33.42927, 'Low': 32.51363, 'High': 34.45261, 'Comments': None, 'Date': '2020-09-22T15:17:49.107+02:00', 'TimeDimensionValue': '2003', 'TimeDimensionBegin': '2003-01-01T00:00:00+01:00', 'TimeDimensionEnd': '2003-12-31T00:00:00+01:00'}, {'Id': 24339464, 'IndicatorCode': 'MDG_0000000007', 'SpatialDimType': 'WORLDBANKINCOMEGROUP', 'SpatialDim': 'WB_UMI', 'TimeDimType': 'YEAR', 'TimeDim': 2004, 'Dim1Type': 'SEX', 'Dim1': 'MLE', 'Dim2Type': None, 'Dim2': None, 'Dim3Type': None, 'Dim3': None, 'DataSourceDimType': None, 'DataSourceDim': None, 'Value': '32.2', 'NumericValue': 32.23737, 'Low': 31.35735, 'High': 33.2288, 'Comments': None, 'Date': '2020-09-22T15:17:49.123+02:00', 'TimeDimensionValue': '2004', 'TimeDimensionBegin': '2004-01-01T00:00:00+01:00', 'TimeDimensionEnd': '2004-12-31T00:00:00+01:00'}, {'Id': 24339465, 'IndicatorCode': 'MDG_0000000007', 'SpatialDimType': 'WORLDBANKINCOMEGROUP', 'SpatialDim': 'WB_UMI', 'TimeDimType': 'YEAR', 'TimeDim': 2005, 'Dim1Type': 'SEX', 'Dim1': 'MLE', 'Dim2Type': None, 'Dim2': None, 'Dim3Type': None, 'Dim3': None, 'DataSourceDimType': None, 'DataSourceDim': None, 'Value': '29.7', 'NumericValue': 29.74287, 'Low': 28.91753, 'High': 30.63507, 'Comments': None, 'Date': '2020-09-22T15:17:49.153+02:00', 'TimeDimensionValue': '2005', 'TimeDimensionBegin': '2005-01-01T00:00:00+01:00', 'TimeDimensionEnd': '2005-12-31T00:00:00+01:00'}, {'Id': 24339466, 'IndicatorCode': 'MDG_0000000007', 'SpatialDimType': 'WORLDBANKINCOMEGROUP', 'SpatialDim': 'WB_UMI', 'TimeDimType': 'YEAR', 'TimeDim': 2006, 'Dim1Type': 'SEX', 'Dim1': 'MLE', 'Dim2Type': None, 'Dim2': None, 'Dim3Type': None, 'Dim3': None, 'DataSourceDimType': None, 'DataSourceDim': None, 'Value': '28.1', 'NumericValue': 28.07933, 'Low': 27.2869, 'High': 28.91545, 'Comments': None, 'Date': '2020-09-22T15:17:49.17+02:00', 'TimeDimensionValue': '2006', 'TimeDimensionBegin': '2006-01-01T00:00:00+01:00', 'TimeDimensionEnd': '2006-12-31T00:00:00+01:00'}, {'Id': 24339467, 'IndicatorCode': 'MDG_0000000007', 'SpatialDimType': 'WORLDBANKINCOMEGROUP', 'SpatialDim': 'WB_UMI', 'TimeDimType': 'YEAR', 'TimeDim': 2007, 'Dim1Type': 'SEX', 'Dim1': 'MLE', 'Dim2Type': None, 'Dim2': None, 'Dim3Type': None, 'Dim3': None, 'DataSourceDimType': None, 'DataSourceDim': None, 'Value': '26.5', 'NumericValue': 26.46463, 'Low': 25.7087, 'High': 27.24102, 'Comments': None, 'Date': '2020-09-22T15:17:49.187+02:00', 'TimeDimensionValue': '2007', 'TimeDimensionBegin': '2007-01-01T00:00:00+01:00', 'TimeDimensionEnd': '2007-12-31T00:00:00+01:00'}, {'Id': 24339468, 'IndicatorCode': 'MDG_0000000007', 'SpatialDimType': 'WORLDBANKINCOMEGROUP', 'SpatialDim': 'WB_UMI', 'TimeDimType': 'YEAR', 'TimeDim': 2008, 'Dim1Type': 'SEX', 'Dim1': 'MLE', 'Dim2Type': None, 'Dim2': None, 'Dim3Type': None, 'Dim3': None, 'DataSourceDimType': None, 'DataSourceDim': None, 'Value': '24.9', 'NumericValue': 24.90983, 'Low': 24.21551, 'High': 25.64029, 'Comments': None, 'Date': '2020-09-22T15:17:49.217+02:00', 'TimeDimensionValue': '2008', 'TimeDimensionBegin': '2008-01-01T00:00:00+01:00', 'TimeDimensionEnd': '2008-12-31T00:00:00+01:00'}, {'Id': 24339469, 'IndicatorCode': 'MDG_0000000007', 'SpatialDimType': 'WORLDBANKINCOMEGROUP', 'SpatialDim': 'WB_UMI', 'TimeDimType': 'YEAR', 'TimeDim': 2009, 'Dim1Type': 'SEX', 'Dim1': 'MLE', 'Dim2Type': None, 'Dim2': None, 'Dim3Type': None, 'Dim3': None, 'DataSourceDimType': None, 'DataSourceDim': None, 'Value': '23.4', 'NumericValue': 23.42457, 'Low': 22.78425, 'High': 24.12513, 'Comments': None, 'Date': '2020-09-22T15:17:49.263+02:00', 'TimeDimensionValue': '2009', 'TimeDimensionBegin': '2009-01-01T00:00:00+01:00', 'TimeDimensionEnd': '2009-12-31T00:00:00+01:00'}, {'Id': 24339470, 'IndicatorCode': 'MDG_0000000007', 'SpatialDimType': 'WORLDBANKINCOMEGROUP', 'SpatialDim': 'WB_UMI', 'TimeDimType': 'YEAR', 'TimeDim': 2010, 'Dim1Type': 'SEX', 'Dim1': 'MLE', 'Dim2Type': None, 'Dim2': None, 'Dim3Type': None, 'Dim3': None, 'DataSourceDimType': None, 'DataSourceDim': None, 'Value': '22.1', 'NumericValue': 22.05279, 'Low': 21.45615, 'High': 22.73515, 'Comments': None, 'Date': '2020-09-22T15:17:49.34+02:00', 'TimeDimensionValue': '2010', 'TimeDimensionBegin': '2010-01-01T00:00:00+01:00', 'TimeDimensionEnd': '2010-12-31T00:00:00+01:00'}, {'Id': 24339471, 'IndicatorCode': 'MDG_0000000007', 'SpatialDimType': 'WORLDBANKINCOMEGROUP', 'SpatialDim': 'WB_UMI', 'TimeDimType': 'YEAR', 'TimeDim': 2011, 'Dim1Type': 'SEX', 'Dim1': 'MLE', 'Dim2Type': None, 'Dim2': None, 'Dim3Type': None, 'Dim3': None, 'DataSourceDimType': None, 'DataSourceDim': None, 'Value': '20.8', 'NumericValue': 20.83711, 'Low': 20.25929, 'High': 21.51452, 'Comments': None, 'Date': '2020-09-22T15:17:49.42+02:00', 'TimeDimensionValue': '2011', 'TimeDimensionBegin': '2011-01-01T00:00:00+01:00', 'TimeDimensionEnd': '2011-12-31T00:00:00+01:00'}, {'Id': 24339472, 'IndicatorCode': 'MDG_0000000007', 'SpatialDimType': 'WORLDBANKINCOMEGROUP', 'SpatialDim': 'WB_UMI', 'TimeDimType': 'YEAR', 'TimeDim': 2012, 'Dim1Type': 'SEX', 'Dim1': 'MLE', 'Dim2Type': None, 'Dim2': None, 'Dim3Type': None, 'Dim3': None, 'DataSourceDimType': None, 'DataSourceDim': None, 'Value': '19.8', 'NumericValue': 19.75783, 'Low': 19.19994, 'High': 20.43191, 'Comments': None, 'Date': '2020-09-22T15:17:49.483+02:00', 'TimeDimensionValue': '2012', 'TimeDimensionBegin': '2012-01-01T00:00:00+01:00', 'TimeDimensionEnd': '2012-12-31T00:00:00+01:00'}, {'Id': 24339473, 'IndicatorCode': 'MDG_0000000007', 'SpatialDimType': 'WORLDBANKINCOMEGROUP', 'SpatialDim': 'WB_UMI', 'TimeDimType': 'YEAR', 'TimeDim': 2013, 'Dim1Type': 'SEX', 'Dim1': 'MLE', 'Dim2Type': None, 'Dim2': None, 'Dim3Type': None, 'Dim3': None, 'DataSourceDimType': None, 'DataSourceDim': None, 'Value': '18.8', 'NumericValue': 18.8012, 'Low': 18.26238, 'High': 19.47525, 'Comments': None, 'Date': '2020-09-22T15:17:49.513+02:00', 'TimeDimensionValue': '2013', 'TimeDimensionBegin': '2013-01-01T00:00:00+01:00', 'TimeDimensionEnd': '2013-12-31T00:00:00+01:00'}, {'Id': 24339474, 'IndicatorCode': 'MDG_0000000007', 'SpatialDimType': 'WORLDBANKINCOMEGROUP', 'SpatialDim': 'WB_UMI', 'TimeDimType': 'YEAR', 'TimeDim': 2014, 'Dim1Type': 'SEX', 'Dim1': 'MLE', 'Dim2Type': None, 'Dim2': None, 'Dim3Type': None, 'Dim3': None, 'DataSourceDimType': None, 'DataSourceDim': None, 'Value': '17.9', 'NumericValue': 17.91466, 'Low': 17.37949, 'High': 18.60263, 'Comments': None, 'Date': '2020-09-22T15:17:49.53+02:00', 'TimeDimensionValue': '2014', 'TimeDimensionBegin': '2014-01-01T00:00:00+01:00', 'TimeDimensionEnd': '2014-12-31T00:00:00+01:00'}, {'Id': 24339475, 'IndicatorCode': 'MDG_0000000007', 'SpatialDimType': 'WORLDBANKINCOMEGROUP', 'SpatialDim': 'WB_UMI', 'TimeDimType': 'YEAR', 'TimeDim': 2015, 'Dim1Type': 'SEX', 'Dim1': 'MLE', 'Dim2Type': None, 'Dim2': None, 'Dim3Type': None, 'Dim3': None, 'DataSourceDimType': None, 'DataSourceDim': None, 'Value': '17.1', 'NumericValue': 17.0859, 'Low': 16.54721, 'High': 17.80294, 'Comments': None, 'Date': '2020-09-22T15:17:49.56+02:00', 'TimeDimensionValue': '2015', 'TimeDimensionBegin': '2015-01-01T00:00:00+01:00', 'TimeDimensionEnd': '2015-12-31T00:00:00+01:00'}, {'Id': 24339476, 'IndicatorCode': 'MDG_0000000007', 'SpatialDimType': 'WORLDBANKINCOMEGROUP', 'SpatialDim': 'WB_UMI', 'TimeDimType': 'YEAR', 'TimeDim': 2016, 'Dim1Type': 'SEX', 'Dim1': 'MLE', 'Dim2Type': None, 'Dim2': None, 'Dim3Type': None, 'Dim3': None, 'DataSourceDimType': None, 'DataSourceDim': None, 'Value': '16.4', 'NumericValue': 16.44642, 'Low': 15.89254, 'High': 17.20541, 'Comments': None, 'Date': '2020-09-22T15:17:49.577+02:00', 'TimeDimensionValue': '2016', 'TimeDimensionBegin': '2016-01-01T00:00:00+01:00', 'TimeDimensionEnd': '2016-12-31T00:00:00+01:00'}, {'Id': 24339477, 'IndicatorCode': 'MDG_0000000007', 'SpatialDimType': 'WORLDBANKINCOMEGROUP', 'SpatialDim': 'WB_UMI', 'TimeDimType': 'YEAR', 'TimeDim': 2017, 'Dim1Type': 'SEX', 'Dim1': 'MLE', 'Dim2Type': None, 'Dim2': None, 'Dim3Type': None, 'Dim3': None, 'DataSourceDimType': None, 'DataSourceDim': None, 'Value': '15.7', 'NumericValue': 15.66091, 'Low': 15.07802, 'High': 16.48523, 'Comments': None, 'Date': '2020-09-22T15:17:49.59+02:00', 'TimeDimensionValue': '2017', 'TimeDimensionBegin': '2017-01-01T00:00:00+01:00', 'TimeDimensionEnd': '2017-12-31T00:00:00+01:00'}, {'Id': 24339478, 'IndicatorCode': 'MDG_0000000007', 'SpatialDimType': 'WORLDBANKINCOMEGROUP', 'SpatialDim': 'WB_UMI', 'TimeDimType': 'YEAR', 'TimeDim': 2018, 'Dim1Type': 'SEX', 'Dim1': 'MLE', 'Dim2Type': None, 'Dim2': None, 'Dim3Type': None, 'Dim3': None, 'DataSourceDimType': None, 'DataSourceDim': None, 'Value': '15', 'NumericValue': 14.99854, 'Low': 14.36756, 'High': 15.92338, 'Comments': None, 'Date': '2020-09-22T15:17:49.623+02:00', 'TimeDimensionValue': '2018', 'TimeDimensionBegin': '2018-01-01T00:00:00+01:00', 'TimeDimensionEnd': '2018-12-31T00:00:00+01:00'}, {'Id': 24339479, 'IndicatorCode': 'MDG_0000000007', 'SpatialDimType': 'WORLDBANKINCOMEGROUP', 'SpatialDim': 'WB_UMI', 'TimeDimType': 'YEAR', 'TimeDim': 2019, 'Dim1Type': 'SEX', 'Dim1': 'MLE', 'Dim2Type': None, 'Dim2': None, 'Dim3Type': None, 'Dim3': None, 'DataSourceDimType': None, 'DataSourceDim': None, 'Value': '14.4', 'NumericValue': 14.41745, 'Low': 13.72101, 'High': 15.49536, 'Comments': None, 'Date': '2020-09-22T15:17:49.64+02:00', 'TimeDimensionValue': '2019', 'TimeDimensionBegin': '2019-01-01T00:00:00+01:00', 'TimeDimensionEnd': '2019-12-31T00:00:00+01:00'}, {'Id': 25637386, 'IndicatorCode': 'MDG_0000000007', 'SpatialDimType': 'REGION', 'SpatialDim': 'AFR', 'TimeDimType': 'YEAR', 'TimeDim': 1990, 'Dim1Type': 'SEX', 'Dim1': 'BTSX', 'Dim2Type': None, 'Dim2': None, 'Dim3Type': None, 'Dim3': None, 'DataSourceDimType': None, 'DataSourceDim': None, 'Value': '176', 'NumericValue': 176.0, 'Low': None, 'High': None, 'Comments': None, 'Date': '2021-03-26T08:46:10.877+01:00', 'TimeDimensionValue': '1990', 'TimeDimensionBegin': '1990-01-01T00:00:00+01:00', 'TimeDimensionEnd': '1990-12-31T00:00:00+01:00'}, {'Id': 25637387, 'IndicatorCode': 'MDG_0000000007', 'SpatialDimType': 'REGION', 'SpatialDim': 'AMR', 'TimeDimType': 'YEAR', 'TimeDim': 1990, 'Dim1Type': 'SEX', 'Dim1': 'BTSX', 'Dim2Type': None, 'Dim2': None, 'Dim3Type': None, 'Dim3': None, 'DataSourceDimType': None, 'DataSourceDim': None, 'Value': '43', 'NumericValue': 43.0, 'Low': None, 'High': None, 'Comments': None, 'Date': '2021-03-26T08:46:10.94+01:00', 'TimeDimensionValue': '1990', 'TimeDimensionBegin': '1990-01-01T00:00:00+01:00', 'TimeDimensionEnd': '1990-12-31T00:00:00+01:00'}, {'Id': 25637388, 'IndicatorCode': 'MDG_0000000007', 'SpatialDimType': 'REGION', 'SpatialDim': 'AMR', 'TimeDimType': 'YEAR', 'TimeDim': 2019, 'Dim1Type': 'SEX', 'Dim1': 'BTSX', 'Dim2Type': None, 'Dim2': None, 'Dim3Type': None, 'Dim3': None, 'DataSourceDimType': None, 'DataSourceDim': None, 'Value': '13', 'NumericValue': 13.0, 'Low': None, 'High': None, 'Comments': None, 'Date': '2021-03-26T08:46:10.953+01:00', 'TimeDimensionValue': '2019', 'TimeDimensionBegin': '2019-01-01T00:00:00+01:00', 'TimeDimensionEnd': '2019-12-31T00:00:00+01:00'}, {'Id': 25637397, 'IndicatorCode': 'MDG_0000000007', 'SpatialDimType': 'REGION', 'SpatialDim': 'EUR', 'TimeDimType': 'YEAR', 'TimeDim': 1990, 'Dim1Type': 'SEX', 'Dim1': 'BTSX', 'Dim2Type': None, 'Dim2': None, 'Dim3Type': None, 'Dim3': None, 'DataSourceDimType': None, 'DataSourceDim': None, 'Value': '31', 'NumericValue': 31.0, 'Low': None, 'High': None, 'Comments': None, 'Date': '2021-03-26T08:46:11.22+01:00', 'TimeDimensionValue': '1990', 'TimeDimensionBegin': '1990-01-01T00:00:00+01:00', 'TimeDimensionEnd': '1990-12-31T00:00:00+01:00'}, {'Id': 25637398, 'IndicatorCode': 'MDG_0000000007', 'SpatialDimType': 'REGION', 'SpatialDim': 'SEAR', 'TimeDimType': 'YEAR', 'TimeDim': 1990, 'Dim1Type': 'SEX', 'Dim1': 'BTSX', 'Dim2Type': None, 'Dim2': None, 'Dim3Type': None, 'Dim3': None, 'DataSourceDimType': None, 'DataSourceDim': None, 'Value': '119', 'NumericValue': 119.0, 'Low': None, 'High': None, 'Comments': None, 'Date': '2021-03-26T08:46:11.237+01:00', 'TimeDimensionValue': '1990', 'TimeDimensionBegin': '1990-01-01T00:00:00+01:00', 'TimeDimensionEnd': '1990-12-31T00:00:00+01:00'}, {'Id': 25637399, 'IndicatorCode': 'MDG_0000000007', 'SpatialDimType': 'REGION', 'SpatialDim': 'SEAR', 'TimeDimType': 'YEAR', 'TimeDim': 2019, 'Dim1Type': 'SEX', 'Dim1': 'BTSX', 'Dim2Type': None, 'Dim2': None, 'Dim3Type': None, 'Dim3': None, 'DataSourceDimType': None, 'DataSourceDim': None, 'Value': '32', 'NumericValue': 32.0, 'Low': None, 'High': None, 'Comments': None, 'Date': '2021-03-26T08:46:11.267+01:00', 'TimeDimensionValue': '2019', 'TimeDimensionBegin': '2019-01-01T00:00:00+01:00', 'TimeDimensionEnd': '2019-12-31T00:00:00+01:00'}, {'Id': 25637408, 'IndicatorCode': 'MDG_0000000007', 'SpatialDimType': 'REGION', 'SpatialDim': 'EMR', 'TimeDimType': 'YEAR', 'TimeDim': 2019, 'Dim1Type': 'SEX', 'Dim1': 'BTSX', 'Dim2Type': None, 'Dim2': None, 'Dim3Type': None, 'Dim3': None, 'DataSourceDimType': None, 'DataSourceDim': None, 'Value': '46', 'NumericValue': 46.0, 'Low': None, 'High': None, 'Comments': None, 'Date': '2021-03-26T08:46:11.44+01:00', 'TimeDimensionValue': '2019', 'TimeDimensionBegin': '2019-01-01T00:00:00+01:00', 'TimeDimensionEnd': '2019-12-31T00:00:00+01:00'}, {'Id': 25637409, 'IndicatorCode': 'MDG_0000000007', 'SpatialDimType': 'REGION', 'SpatialDim': 'EUR', 'TimeDimType': 'YEAR', 'TimeDim': 2019, 'Dim1Type': 'SEX', 'Dim1': 'BTSX', 'Dim2Type': None, 'Dim2': None, 'Dim3Type': None, 'Dim3': None, 'DataSourceDimType': None, 'DataSourceDim': None, 'Value': '8', 'NumericValue': 8.0, 'Low': None, 'High': None, 'Comments': None, 'Date': '2021-03-26T08:46:11.453+01:00', 'TimeDimensionValue': '2019', 'TimeDimensionBegin': '2019-01-01T00:00:00+01:00', 'TimeDimensionEnd': '2019-12-31T00:00:00+01:00'}, {'Id': 25637413, 'IndicatorCode': 'MDG_0000000007', 'SpatialDimType': 'REGION', 'SpatialDim': 'WPR', 'TimeDimType': 'YEAR', 'TimeDim': 1990, 'Dim1Type': 'SEX', 'Dim1': 'BTSX', 'Dim2Type': None, 'Dim2': None, 'Dim3Type': None, 'Dim3': None, 'DataSourceDimType': None, 'DataSourceDim': None, 'Value': '52', 'NumericValue': 52.0, 'Low': None, 'High': None, 'Comments': None, 'Date': '2021-03-26T08:46:11.55+01:00', 'TimeDimensionValue': '1990', 'TimeDimensionBegin': '1990-01-01T00:00:00+01:00', 'TimeDimensionEnd': '1990-12-31T00:00:00+01:00'}, {'Id': 25637414, 'IndicatorCode': 'MDG_0000000007', 'SpatialDimType': 'REGION', 'SpatialDim': 'AFR', 'TimeDimType': 'YEAR', 'TimeDim': 2019, 'Dim1Type': 'SEX', 'Dim1': 'BTSX', 'Dim2Type': None, 'Dim2': None, 'Dim3Type': None, 'Dim3': None, 'DataSourceDimType': None, 'DataSourceDim': None, 'Value': '74', 'NumericValue': 74.0, 'Low': None, 'High': None, 'Comments': None, 'Date': '2021-03-26T08:46:11.563+01:00', 'TimeDimensionValue': '2019', 'TimeDimensionBegin': '2019-01-01T00:00:00+01:00', 'TimeDimensionEnd': '2019-12-31T00:00:00+01:00'}, {'Id': 25637417, 'IndicatorCode': 'MDG_0000000007', 'SpatialDimType': 'REGION', 'SpatialDim': 'EMR', 'TimeDimType': 'YEAR', 'TimeDim': 1990, 'Dim1Type': 'SEX', 'Dim1': 'BTSX', 'Dim2Type': None, 'Dim2': None, 'Dim3Type': None, 'Dim3': None, 'DataSourceDimType': None, 'DataSourceDim': None, 'Value': '103', 'NumericValue': 103.0, 'Low': None, 'High': None, 'Comments': None, 'Date': '2021-03-26T08:46:11.627+01:00', 'TimeDimensionValue': '1990', 'TimeDimensionBegin': '1990-01-01T00:00:00+01:00', 'TimeDimensionEnd': '1990-12-31T00:00:00+01:00'}, {'Id': 25637421, 'IndicatorCode': 'MDG_0000000007', 'SpatialDimType': 'REGION', 'SpatialDim': 'WPR', 'TimeDimType': 'YEAR', 'TimeDim': 2019, 'Dim1Type': 'SEX', 'Dim1': 'BTSX', 'Dim2Type': None, 'Dim2': None, 'Dim3Type': None, 'Dim3': None, 'DataSourceDimType': None, 'DataSourceDim': None, 'Value': '11', 'NumericValue': 11.0, 'Low': None, 'High': None, 'Comments': None, 'Date': '2021-03-26T08:46:11.737+01:00', 'TimeDimensionValue': '2019', 'TimeDimensionBegin': '2019-01-01T00:00:00+01:00', 'TimeDimensionEnd': '2019-12-31T00:00:00+01:00'}]}\n"
     ]
    }
   ],
   "source": [
    "print(response)"
   ]
  },
  {
   "cell_type": "code",
   "execution_count": 5,
   "metadata": {},
   "outputs": [
    {
     "output_type": "execute_result",
     "data": {
      "text/plain": [
       "         Id   IndicatorCode SpatialDimType SpatialDim TimeDimType  TimeDim  \\\n",
       "0  24294408  MDG_0000000007        COUNTRY        AFG        YEAR     1962   \n",
       "1  24294409  MDG_0000000007        COUNTRY        AFG        YEAR     1963   \n",
       "2  24294410  MDG_0000000007        COUNTRY        AFG        YEAR     1964   \n",
       "3  24294411  MDG_0000000007        COUNTRY        AFG        YEAR     1965   \n",
       "4  24294412  MDG_0000000007        COUNTRY        AFG        YEAR     1966   \n",
       "5  24294413  MDG_0000000007        COUNTRY        AFG        YEAR     1967   \n",
       "6  24294414  MDG_0000000007        COUNTRY        AFG        YEAR     1968   \n",
       "7  24294415  MDG_0000000007        COUNTRY        AFG        YEAR     1969   \n",
       "8  24294416  MDG_0000000007        COUNTRY        AFG        YEAR     1970   \n",
       "9  24294417  MDG_0000000007        COUNTRY        AFG        YEAR     1971   \n",
       "\n",
       "  Dim1Type  Dim1 Dim2Type  Dim2  ... DataSourceDim  Value NumericValue  \\\n",
       "0      SEX  BTSX     None  None  ...          None  344.6    344.62950   \n",
       "1      SEX  BTSX     None  None  ...          None  338.7    338.71554   \n",
       "2      SEX  BTSX     None  None  ...          None  333.1    333.10666   \n",
       "3      SEX  BTSX     None  None  ...          None  327.6    327.56087   \n",
       "4      SEX  BTSX     None  None  ...          None    322    322.04611   \n",
       "5      SEX  BTSX     None  None  ...          None  316.8    316.79465   \n",
       "6      SEX  BTSX     None  None  ...          None  311.4    311.38246   \n",
       "7      SEX  BTSX     None  None  ...          None  305.8    305.76466   \n",
       "8      SEX  BTSX     None  None  ...          None  300.3    300.27875   \n",
       "9      SEX  BTSX     None  None  ...          None  294.8    294.75546   \n",
       "\n",
       "         Low       High  Comments                           Date  \\\n",
       "0  299.42552  399.28771      None      2020-09-22T14:19:46+02:00   \n",
       "1  296.66847  389.86617      None  2020-09-22T14:19:46.033+02:00   \n",
       "2  293.10659  380.35079      None  2020-09-22T14:19:46.097+02:00   \n",
       "3  289.05181  372.54933      None  2020-09-22T14:19:46.127+02:00   \n",
       "4  284.75436  366.28313      None  2020-09-22T14:19:46.157+02:00   \n",
       "5  280.07432  360.10587      None   2020-09-22T14:19:46.19+02:00   \n",
       "6  275.40339  354.11656      None   2020-09-22T14:19:46.22+02:00   \n",
       "7  270.78063  347.89892      None  2020-09-22T14:19:46.267+02:00   \n",
       "8  266.01564  342.33624      None    2020-09-22T14:19:46.3+02:00   \n",
       "9  260.86470  336.43932      None  2020-09-22T14:19:46.347+02:00   \n",
       "\n",
       "   TimeDimensionValue         TimeDimensionBegin           TimeDimensionEnd  \n",
       "0                1962  1962-01-01T00:00:00+01:00  1962-12-31T00:00:00+01:00  \n",
       "1                1963  1963-01-01T00:00:00+01:00  1963-12-31T00:00:00+01:00  \n",
       "2                1964  1964-01-01T00:00:00+01:00  1964-12-31T00:00:00+01:00  \n",
       "3                1965  1965-01-01T00:00:00+01:00  1965-12-31T00:00:00+01:00  \n",
       "4                1966  1966-01-01T00:00:00+01:00  1966-12-31T00:00:00+01:00  \n",
       "5                1967  1967-01-01T00:00:00+01:00  1967-12-31T00:00:00+01:00  \n",
       "6                1968  1968-01-01T00:00:00+01:00  1968-12-31T00:00:00+01:00  \n",
       "7                1969  1969-01-01T00:00:00+01:00  1969-12-31T00:00:00+01:00  \n",
       "8                1970  1970-01-01T00:00:00+01:00  1970-12-31T00:00:00+01:00  \n",
       "9                1971  1971-01-01T00:00:00+01:00  1971-12-31T00:00:00+01:00  \n",
       "\n",
       "[10 rows x 23 columns]"
      ],
      "text/html": "<div>\n<style scoped>\n    .dataframe tbody tr th:only-of-type {\n        vertical-align: middle;\n    }\n\n    .dataframe tbody tr th {\n        vertical-align: top;\n    }\n\n    .dataframe thead th {\n        text-align: right;\n    }\n</style>\n<table border=\"1\" class=\"dataframe\">\n  <thead>\n    <tr style=\"text-align: right;\">\n      <th></th>\n      <th>Id</th>\n      <th>IndicatorCode</th>\n      <th>SpatialDimType</th>\n      <th>SpatialDim</th>\n      <th>TimeDimType</th>\n      <th>TimeDim</th>\n      <th>Dim1Type</th>\n      <th>Dim1</th>\n      <th>Dim2Type</th>\n      <th>Dim2</th>\n      <th>...</th>\n      <th>DataSourceDim</th>\n      <th>Value</th>\n      <th>NumericValue</th>\n      <th>Low</th>\n      <th>High</th>\n      <th>Comments</th>\n      <th>Date</th>\n      <th>TimeDimensionValue</th>\n      <th>TimeDimensionBegin</th>\n      <th>TimeDimensionEnd</th>\n    </tr>\n  </thead>\n  <tbody>\n    <tr>\n      <th>0</th>\n      <td>24294408</td>\n      <td>MDG_0000000007</td>\n      <td>COUNTRY</td>\n      <td>AFG</td>\n      <td>YEAR</td>\n      <td>1962</td>\n      <td>SEX</td>\n      <td>BTSX</td>\n      <td>None</td>\n      <td>None</td>\n      <td>...</td>\n      <td>None</td>\n      <td>344.6</td>\n      <td>344.62950</td>\n      <td>299.42552</td>\n      <td>399.28771</td>\n      <td>None</td>\n      <td>2020-09-22T14:19:46+02:00</td>\n      <td>1962</td>\n      <td>1962-01-01T00:00:00+01:00</td>\n      <td>1962-12-31T00:00:00+01:00</td>\n    </tr>\n    <tr>\n      <th>1</th>\n      <td>24294409</td>\n      <td>MDG_0000000007</td>\n      <td>COUNTRY</td>\n      <td>AFG</td>\n      <td>YEAR</td>\n      <td>1963</td>\n      <td>SEX</td>\n      <td>BTSX</td>\n      <td>None</td>\n      <td>None</td>\n      <td>...</td>\n      <td>None</td>\n      <td>338.7</td>\n      <td>338.71554</td>\n      <td>296.66847</td>\n      <td>389.86617</td>\n      <td>None</td>\n      <td>2020-09-22T14:19:46.033+02:00</td>\n      <td>1963</td>\n      <td>1963-01-01T00:00:00+01:00</td>\n      <td>1963-12-31T00:00:00+01:00</td>\n    </tr>\n    <tr>\n      <th>2</th>\n      <td>24294410</td>\n      <td>MDG_0000000007</td>\n      <td>COUNTRY</td>\n      <td>AFG</td>\n      <td>YEAR</td>\n      <td>1964</td>\n      <td>SEX</td>\n      <td>BTSX</td>\n      <td>None</td>\n      <td>None</td>\n      <td>...</td>\n      <td>None</td>\n      <td>333.1</td>\n      <td>333.10666</td>\n      <td>293.10659</td>\n      <td>380.35079</td>\n      <td>None</td>\n      <td>2020-09-22T14:19:46.097+02:00</td>\n      <td>1964</td>\n      <td>1964-01-01T00:00:00+01:00</td>\n      <td>1964-12-31T00:00:00+01:00</td>\n    </tr>\n    <tr>\n      <th>3</th>\n      <td>24294411</td>\n      <td>MDG_0000000007</td>\n      <td>COUNTRY</td>\n      <td>AFG</td>\n      <td>YEAR</td>\n      <td>1965</td>\n      <td>SEX</td>\n      <td>BTSX</td>\n      <td>None</td>\n      <td>None</td>\n      <td>...</td>\n      <td>None</td>\n      <td>327.6</td>\n      <td>327.56087</td>\n      <td>289.05181</td>\n      <td>372.54933</td>\n      <td>None</td>\n      <td>2020-09-22T14:19:46.127+02:00</td>\n      <td>1965</td>\n      <td>1965-01-01T00:00:00+01:00</td>\n      <td>1965-12-31T00:00:00+01:00</td>\n    </tr>\n    <tr>\n      <th>4</th>\n      <td>24294412</td>\n      <td>MDG_0000000007</td>\n      <td>COUNTRY</td>\n      <td>AFG</td>\n      <td>YEAR</td>\n      <td>1966</td>\n      <td>SEX</td>\n      <td>BTSX</td>\n      <td>None</td>\n      <td>None</td>\n      <td>...</td>\n      <td>None</td>\n      <td>322</td>\n      <td>322.04611</td>\n      <td>284.75436</td>\n      <td>366.28313</td>\n      <td>None</td>\n      <td>2020-09-22T14:19:46.157+02:00</td>\n      <td>1966</td>\n      <td>1966-01-01T00:00:00+01:00</td>\n      <td>1966-12-31T00:00:00+01:00</td>\n    </tr>\n    <tr>\n      <th>5</th>\n      <td>24294413</td>\n      <td>MDG_0000000007</td>\n      <td>COUNTRY</td>\n      <td>AFG</td>\n      <td>YEAR</td>\n      <td>1967</td>\n      <td>SEX</td>\n      <td>BTSX</td>\n      <td>None</td>\n      <td>None</td>\n      <td>...</td>\n      <td>None</td>\n      <td>316.8</td>\n      <td>316.79465</td>\n      <td>280.07432</td>\n      <td>360.10587</td>\n      <td>None</td>\n      <td>2020-09-22T14:19:46.19+02:00</td>\n      <td>1967</td>\n      <td>1967-01-01T00:00:00+01:00</td>\n      <td>1967-12-31T00:00:00+01:00</td>\n    </tr>\n    <tr>\n      <th>6</th>\n      <td>24294414</td>\n      <td>MDG_0000000007</td>\n      <td>COUNTRY</td>\n      <td>AFG</td>\n      <td>YEAR</td>\n      <td>1968</td>\n      <td>SEX</td>\n      <td>BTSX</td>\n      <td>None</td>\n      <td>None</td>\n      <td>...</td>\n      <td>None</td>\n      <td>311.4</td>\n      <td>311.38246</td>\n      <td>275.40339</td>\n      <td>354.11656</td>\n      <td>None</td>\n      <td>2020-09-22T14:19:46.22+02:00</td>\n      <td>1968</td>\n      <td>1968-01-01T00:00:00+01:00</td>\n      <td>1968-12-31T00:00:00+01:00</td>\n    </tr>\n    <tr>\n      <th>7</th>\n      <td>24294415</td>\n      <td>MDG_0000000007</td>\n      <td>COUNTRY</td>\n      <td>AFG</td>\n      <td>YEAR</td>\n      <td>1969</td>\n      <td>SEX</td>\n      <td>BTSX</td>\n      <td>None</td>\n      <td>None</td>\n      <td>...</td>\n      <td>None</td>\n      <td>305.8</td>\n      <td>305.76466</td>\n      <td>270.78063</td>\n      <td>347.89892</td>\n      <td>None</td>\n      <td>2020-09-22T14:19:46.267+02:00</td>\n      <td>1969</td>\n      <td>1969-01-01T00:00:00+01:00</td>\n      <td>1969-12-31T00:00:00+01:00</td>\n    </tr>\n    <tr>\n      <th>8</th>\n      <td>24294416</td>\n      <td>MDG_0000000007</td>\n      <td>COUNTRY</td>\n      <td>AFG</td>\n      <td>YEAR</td>\n      <td>1970</td>\n      <td>SEX</td>\n      <td>BTSX</td>\n      <td>None</td>\n      <td>None</td>\n      <td>...</td>\n      <td>None</td>\n      <td>300.3</td>\n      <td>300.27875</td>\n      <td>266.01564</td>\n      <td>342.33624</td>\n      <td>None</td>\n      <td>2020-09-22T14:19:46.3+02:00</td>\n      <td>1970</td>\n      <td>1970-01-01T00:00:00+01:00</td>\n      <td>1970-12-31T00:00:00+01:00</td>\n    </tr>\n    <tr>\n      <th>9</th>\n      <td>24294417</td>\n      <td>MDG_0000000007</td>\n      <td>COUNTRY</td>\n      <td>AFG</td>\n      <td>YEAR</td>\n      <td>1971</td>\n      <td>SEX</td>\n      <td>BTSX</td>\n      <td>None</td>\n      <td>None</td>\n      <td>...</td>\n      <td>None</td>\n      <td>294.8</td>\n      <td>294.75546</td>\n      <td>260.86470</td>\n      <td>336.43932</td>\n      <td>None</td>\n      <td>2020-09-22T14:19:46.347+02:00</td>\n      <td>1971</td>\n      <td>1971-01-01T00:00:00+01:00</td>\n      <td>1971-12-31T00:00:00+01:00</td>\n    </tr>\n  </tbody>\n</table>\n<p>10 rows × 23 columns</p>\n</div>"
     },
     "metadata": {},
     "execution_count": 5
    }
   ],
   "source": [
    "# Crate Dataframe\n",
    "child_mortality_df = pd.DataFrame(response['value'])\n",
    "\n",
    "# Display Dataframe\n",
    "child_mortality_df.head(10)"
   ]
  },
  {
   "source": [
    "# Transform Data"
   ],
   "cell_type": "markdown",
   "metadata": {}
  },
  {
   "cell_type": "code",
   "execution_count": 6,
   "metadata": {},
   "outputs": [
    {
     "output_type": "execute_result",
     "data": {
      "text/plain": [
       "  SpatialDim  TimeDim  Dim1  NumericValue\n",
       "0        AFG     1962  BTSX     344.62950\n",
       "1        AFG     1963  BTSX     338.71554\n",
       "2        AFG     1964  BTSX     333.10666\n",
       "3        AFG     1965  BTSX     327.56087\n",
       "4        AFG     1966  BTSX     322.04611"
      ],
      "text/html": "<div>\n<style scoped>\n    .dataframe tbody tr th:only-of-type {\n        vertical-align: middle;\n    }\n\n    .dataframe tbody tr th {\n        vertical-align: top;\n    }\n\n    .dataframe thead th {\n        text-align: right;\n    }\n</style>\n<table border=\"1\" class=\"dataframe\">\n  <thead>\n    <tr style=\"text-align: right;\">\n      <th></th>\n      <th>SpatialDim</th>\n      <th>TimeDim</th>\n      <th>Dim1</th>\n      <th>NumericValue</th>\n    </tr>\n  </thead>\n  <tbody>\n    <tr>\n      <th>0</th>\n      <td>AFG</td>\n      <td>1962</td>\n      <td>BTSX</td>\n      <td>344.62950</td>\n    </tr>\n    <tr>\n      <th>1</th>\n      <td>AFG</td>\n      <td>1963</td>\n      <td>BTSX</td>\n      <td>338.71554</td>\n    </tr>\n    <tr>\n      <th>2</th>\n      <td>AFG</td>\n      <td>1964</td>\n      <td>BTSX</td>\n      <td>333.10666</td>\n    </tr>\n    <tr>\n      <th>3</th>\n      <td>AFG</td>\n      <td>1965</td>\n      <td>BTSX</td>\n      <td>327.56087</td>\n    </tr>\n    <tr>\n      <th>4</th>\n      <td>AFG</td>\n      <td>1966</td>\n      <td>BTSX</td>\n      <td>322.04611</td>\n    </tr>\n  </tbody>\n</table>\n</div>"
     },
     "metadata": {},
     "execution_count": 6
    }
   ],
   "source": [
    "# filter dataframe to specific columns\n",
    "child_mortality = child_mortality_df[['SpatialDim', 'TimeDim', 'Dim1', 'NumericValue']].copy()\n",
    "child_mortality.head()"
   ]
  },
  {
   "cell_type": "code",
   "execution_count": 7,
   "metadata": {},
   "outputs": [
    {
     "output_type": "stream",
     "name": "stdout",
     "text": [
      "      country  year gender  mortality_rate\n0         AFG  1962   BTSX       344.62950\n1         AFG  1963   BTSX       338.71554\n2         AFG  1964   BTSX       333.10666\n3         AFG  1965   BTSX       327.56087\n4         AFG  1966   BTSX       322.04611\n...       ...   ...    ...             ...\n34324     EUR  2019   BTSX         8.00000\n34325     WPR  1990   BTSX        52.00000\n34326     AFR  2019   BTSX        74.00000\n34327     EMR  1990   BTSX       103.00000\n34328     WPR  2019   BTSX        11.00000\n\n[34329 rows x 4 columns]\n"
     ]
    }
   ],
   "source": [
    "# Rename the column headers\n",
    "child_mortality = child_mortality.rename(columns={\"SpatialDim\": \"country\",\n",
    "                                                          \"TimeDim\": \"year\",\n",
    "                                                          \"Dim1\": \"gender\",\n",
    "                                                          \"NumericValue\":\"mortality_rate\"})\n",
    "print(child_mortality)"
   ]
  },
  {
   "cell_type": "code",
   "execution_count": 8,
   "metadata": {},
   "outputs": [],
   "source": [
    "child_mortality.to_csv('mortalities.csv',index = False, header=True)"
   ]
  },
  {
   "cell_type": "code",
   "execution_count": null,
   "metadata": {},
   "outputs": [],
   "source": []
  }
 ]
}